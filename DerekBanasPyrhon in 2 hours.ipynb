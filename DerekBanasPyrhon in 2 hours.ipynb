{
 "cells": [
  {
   "cell_type": "markdown",
   "metadata": {},
   "source": [
    "# This is the code from Derek Banas Python in 2 hours course\n",
    "https://www.youtube.com/watch?v=H1elmMBnykA&t=79s"
   ]
  },
  {
   "cell_type": "code",
   "execution_count": null,
   "metadata": {},
   "outputs": [],
   "source": [
    "#import libraries\n",
    "import sys\n",
    "import math\n",
    "import random\n",
    "import threading\n",
    "import time\n",
    "from functools import reduce"
   ]
  },
  {
   "cell_type": "code",
   "execution_count": 2,
   "metadata": {},
   "outputs": [
    {
     "name": "stdout",
     "output_type": "stream",
     "text": [
      "Hello World\n"
     ]
    }
   ],
   "source": [
    "# ----- INTRO -----\n",
    "# Python files end with the extension .py\n",
    "# Print to the console\n",
    "# Python statements terminate with a newline\n",
    "print(\"Hello World\")"
   ]
  },
  {
   "cell_type": "markdown",
   "metadata": {},
   "source": [
    "### User input "
   ]
  },
  {
   "cell_type": "code",
   "execution_count": 5,
   "metadata": {},
   "outputs": [
    {
     "name": "stdout",
     "output_type": "stream",
     "text": [
      "What is your name?Madhu\n",
      "Hi, Madhu\n"
     ]
    }
   ],
   "source": [
    "#take inut from the user\n",
    "name =input(\"What is your name?\")\n",
    "print(\"Hi,\",name)"
   ]
  },
  {
   "cell_type": "code",
   "execution_count": 7,
   "metadata": {},
   "outputs": [
    {
     "name": "stdout",
     "output_type": "stream",
     "text": [
      "6\n"
     ]
    }
   ],
   "source": [
    "# Extend a statement to multiple lines using parenthesis\n",
    "v1=(\n",
    "1+2\n",
    "+3)\n",
    "print (v1)"
   ]
  },
  {
   "cell_type": "code",
   "execution_count": 8,
   "metadata": {},
   "outputs": [
    {
     "name": "stdout",
     "output_type": "stream",
     "text": [
      "6\n"
     ]
    }
   ],
   "source": [
    "# Extend a statement to multiple lines using \\\n",
    "v2= 1+2\\\n",
    "+3\n",
    "print(v2)"
   ]
  },
  {
   "cell_type": "code",
   "execution_count": 9,
   "metadata": {},
   "outputs": [
    {
     "name": "stdout",
     "output_type": "stream",
     "text": [
      "6\n"
     ]
    }
   ],
   "source": [
    "#put multiple statements on 1 line\n",
    "v3=7;v3=v3-1;print(v3)"
   ]
  },
  {
   "cell_type": "code",
   "execution_count": 11,
   "metadata": {},
   "outputs": [
    {
     "data": {
      "text/plain": [
       "'Multi-line\\nComment'"
      ]
     },
     "execution_count": 11,
     "metadata": {},
     "output_type": "execute_result"
    }
   ],
   "source": [
    "'''Multi-line\n",
    "Comment'''\n",
    "\n"
   ]
  },
  {
   "cell_type": "code",
   "execution_count": 12,
   "metadata": {},
   "outputs": [],
   "source": [
    "# ----- VARIABLES -----\n",
    "# Variables are names assigned to values\n",
    "# The 1st character must be _ or a letter\n",
    "# Then you can use letters, numbers or _\n",
    "# Variable names are type sensitive\n",
    "v2 = 1\n",
    "V2 = 2  # v1 is different from V1\n",
    "# You can assign multiple variables\n",
    "v3 = v4 = 20"
   ]
  },
  {
   "cell_type": "code",
   "execution_count": 22,
   "metadata": {},
   "outputs": [
    {
     "name": "stdout",
     "output_type": "stream",
     "text": [
      "<class 'int'>\n",
      "<class 'str'>\n",
      "<class 'float'>\n",
      "<class 'bool'>\n"
     ]
    }
   ],
   "source": [
    "# ----- DATA TYPES -----\n",
    "# Data in Python is dynamically typed and that\n",
    "# data type can change\n",
    "# All data is an object which I cover later\n",
    "# The basic types are integers, floats,\n",
    "# complex numbers, strings, booleans\n",
    "# Python doesn't have a character type\n",
    "bool = True\n",
    "print(type(10))\n",
    "print(type(name))\n",
    "print(type(10.0005))\n",
    "print(type(bool))"
   ]
  },
  {
   "cell_type": "code",
   "execution_count": 23,
   "metadata": {},
   "outputs": [
    {
     "name": "stdout",
     "output_type": "stream",
     "text": [
      "9223372036854775807\n"
     ]
    }
   ],
   "source": [
    " #There is no limit to the size of integers\n",
    "# This is a way to get a practical max size\n",
    "print(sys.maxsize)"
   ]
  },
  {
   "cell_type": "code",
   "execution_count": 24,
   "metadata": {},
   "outputs": [
    {
     "name": "stdout",
     "output_type": "stream",
     "text": [
      "1.7976931348623157e+308\n"
     ]
    }
   ],
   "source": [
    "# Floats are values with decimal values\n",
    "# This is how to get a max float\n",
    "print(sys.float_info.max)"
   ]
  },
  {
   "cell_type": "code",
   "execution_count": 27,
   "metadata": {},
   "outputs": [
    {
     "name": "stdout",
     "output_type": "stream",
     "text": [
      "2.2222222222222223\n",
      "(5+6j)\n"
     ]
    }
   ],
   "source": [
    "# But, they are accurate to 15 digits\n",
    "f1 = 1.1111111111111111\n",
    "f2 = 1.1111111111111111\n",
    "f3 = f1 + f2\n",
    "print(f3)\n",
    "# Complex numbers are [real part]+[imaginary part]\n",
    "cn1 = 5 + 6j\n",
    "print(cn1)"
   ]
  },
  {
   "cell_type": "code",
   "execution_count": 28,
   "metadata": {},
   "outputs": [],
   "source": [
    "# Booleans are either True or False\n",
    "b1 = True"
   ]
  },
  {
   "cell_type": "code",
   "execution_count": 30,
   "metadata": {},
   "outputs": [
    {
     "name": "stdout",
     "output_type": "stream",
     "text": [
      "Escape Sequences ' \t \" \\ and \n",
      " printed\n"
     ]
    }
   ],
   "source": [
    "# Strings are surrounded by ' or \"\n",
    "str1 = \"Escape Sequences \\' \\t \\\" \\\\ and \\n printed\"\n",
    "print(str1)"
   ]
  },
  {
   "cell_type": "code",
   "execution_count": 32,
   "metadata": {},
   "outputs": [
    {
     "name": "stdout",
     "output_type": "stream",
     "text": [
      "Triple quoted strings can contain ' and \"\n"
     ]
    }
   ],
   "source": [
    "str2 = '''Triple quoted strings can contain ' and \"'''\n",
    "print(str2)"
   ]
  },
  {
   "cell_type": "markdown",
   "metadata": {},
   "source": [
    "### Type casting data types"
   ]
  },
  {
   "cell_type": "code",
   "execution_count": 36,
   "metadata": {},
   "outputs": [
    {
     "name": "stdout",
     "output_type": "stream",
     "text": [
      "Cast  <class 'int'>\n",
      "Cast 2  <class 'str'>\n",
      "Cast 3  <class 'str'>\n",
      "Cast 4  <class 'int'>\n",
      "Cast 5  <class 'int'>\n"
     ]
    }
   ],
   "source": [
    "# You can cast to different types with int, float,\n",
    "# str, chr\n",
    "print(\"Cast \", type(int(5.4)))  # to int\n",
    "print(\"Cast 2 \", type(str(5.4)))  # to string\n",
    "print(\"Cast 3 \", type(chr(97)))  # to string\n",
    "print(\"Cast 4 \", type(ord('a')))  # to int\n",
    "print(\"Cast 5 \", type(ord(\"$\")))  # to int"
   ]
  },
  {
   "cell_type": "markdown",
   "metadata": {},
   "source": [
    "# ----- OUTPUT -----\n"
   ]
  },
  {
   "cell_type": "code",
   "execution_count": 38,
   "metadata": {},
   "outputs": [
    {
     "name": "stdout",
     "output_type": "stream",
     "text": [
      "12/21/1974\n",
      "10/12/1909\n"
     ]
    }
   ],
   "source": [
    "# You can define a separator for print\n",
    "print(12, 21, 1974, sep='/')\n",
    "a=10\n",
    "b=12\n",
    "c=1909\n",
    "print(a,b,c,sep='/')"
   ]
  },
  {
   "cell_type": "code",
   "execution_count": 42,
   "metadata": {},
   "outputs": [
    {
     "name": "stdout",
     "output_type": "stream",
     "text": [
      "1.No Newline.This is the next line\n",
      "2.No Newline.?\n",
      "This is the next line\n"
     ]
    }
   ],
   "source": [
    "# Eliminate newline\n",
    "print(\"1.No Newline.\", end='')\n",
    "print(\"This is the next line\")\n",
    "\n",
    "print(\"2.No Newline.?\")\n",
    "print(\"This is the next line\")"
   ]
  },
  {
   "cell_type": "code",
   "execution_count": 43,
   "metadata": {},
   "outputs": [
    {
     "name": "stdout",
     "output_type": "stream",
     "text": [
      "\n",
      "0001 Derek 1.23 A\n"
     ]
    }
   ],
   "source": [
    "# String formatting %e for exponent\n",
    "print(\"\\n%04d %s %.2f %c\" % (1, \"Derek\", 1.234, 'A'))"
   ]
  },
  {
   "cell_type": "code",
   "execution_count": null,
   "metadata": {},
   "outputs": [],
   "source": []
  }
 ],
 "metadata": {
  "kernelspec": {
   "display_name": "Python 3",
   "language": "python",
   "name": "python3"
  },
  "language_info": {
   "codemirror_mode": {
    "name": "ipython",
    "version": 3
   },
   "file_extension": ".py",
   "mimetype": "text/x-python",
   "name": "python",
   "nbconvert_exporter": "python",
   "pygments_lexer": "ipython3",
   "version": "3.7.6"
  }
 },
 "nbformat": 4,
 "nbformat_minor": 4
}
